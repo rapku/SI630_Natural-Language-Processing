{
 "cells": [
  {
   "cell_type": "code",
   "execution_count": 1,
   "metadata": {
    "collapsed": true
   },
   "outputs": [],
   "source": [
    "import sys, re, string as strg, numpy as np, pandas as pd\n",
    "from collections import Counter\n",
    "from scipy.sparse import csr_matrix, hstack\n",
    "from sklearn.metrics import f1_score\n",
    "%matplotlib inline"
   ]
  },
  {
   "cell_type": "markdown",
   "metadata": {},
   "source": [
    "#### Functions"
   ]
  },
  {
   "cell_type": "code",
   "execution_count": 2,
   "metadata": {
    "collapsed": true
   },
   "outputs": [],
   "source": [
    "def tokenize(string):\n",
    "    a = re.sub('(@\\w+)|http[s]*[^\\s]*', '', string).lower()\n",
    "    translator = a.maketrans('', '', strg.punctuation)\n",
    "    a = a.translate(translator)\n",
    "    stopwords = ['the', 'and', 'you', 'that', 'was', 'for', 'are', 'with', 'they', 'this', 'have', 'from', 'one', 'had', 'word', 'but', 'not', 'what', 'all', 'were']\n",
    "    return [x for x in re.findall('[a-zA-z]{3,}', a) if x not in stopwords]"
   ]
  },
  {
   "cell_type": "code",
   "execution_count": 3,
   "metadata": {
    "collapsed": true
   },
   "outputs": [],
   "source": [
    "def sigmoid(number):\n",
    "    return 1/(1+np.exp(-number))"
   ]
  },
  {
   "cell_type": "code",
   "execution_count": 4,
   "metadata": {
    "collapsed": true
   },
   "outputs": [],
   "source": [
    "def log_likelihood(featmatrix, bvector, classvector):\n",
    "    # Referenced: https://beckernick.github.io/logistic-regression-from-scratch/ >> Full citation in writeup\n",
    "    score = featmatrix.dot(bvector)\n",
    "    likelihood = np.sum(classvector*score - np.log(1+np.exp(score)))\n",
    "    return likelihood"
   ]
  },
  {
   "cell_type": "code",
   "execution_count": 5,
   "metadata": {
    "collapsed": true
   },
   "outputs": [],
   "source": [
    "def compute_gradient(featmatrix, bvector, classvector):\n",
    "    predictionvector = sigmoid(featmatrix.dot(bvector))\n",
    "    cost = classvector - predictionvector\n",
    "    gradient = featmatrix.T.dot(cost).T\n",
    "    return gradient"
   ]
  },
  {
   "cell_type": "code",
   "execution_count": 6,
   "metadata": {
    "collapsed": true
   },
   "outputs": [],
   "source": [
    "def build_spmatrix(vocabdict, tokenlist):\n",
    "    # Source: https://docs.scipy.org/doc/scipy/reference/generated/scipy.sparse.csr_matrix.html >> Full citation in writeup\n",
    "    indptr = [0]\n",
    "    indices = []\n",
    "    data = []\n",
    "    doccount = 0\n",
    "    for d in tokenlist:\n",
    "        for term in d:\n",
    "            if term in vocabdict.keys():\n",
    "                index = vocabulary[term]\n",
    "                indices.append(index)\n",
    "                data.append(1)\n",
    "            else:\n",
    "                continue\n",
    "        doccount += 1\n",
    "\n",
    "        indptr.append(len(indices))\n",
    "    \n",
    "    featmatrix = csr_matrix((data, indices, indptr), dtype=int, shape=(doccount,len(vocabdict.keys())))\n",
    "    newcol = csr_matrix(np.ones((featmatrix.shape[0],1)))\n",
    "    \n",
    "    return csr_matrix(hstack([featmatrix, newcol]))"
   ]
  },
  {
   "cell_type": "code",
   "execution_count": 8,
   "metadata": {
    "collapsed": true
   },
   "outputs": [],
   "source": [
    "def logistic_regression(featmatrix, classvector, learningrate, num_step, intercept=False):\n",
    "    # Referenced: https://beckernick.github.io/logistic-regression-from-scratch/ >> Full citation in writeup\n",
    "    weights = np.zeros(featmatrix.shape[1])\n",
    "    \n",
    "    for step in np.arange(num_step):\n",
    "        if featmatrix.shape[0]-step <= 0:\n",
    "            i = step % featmatrix.shape[0]\n",
    "        else:\n",
    "            i = step\n",
    "        gradient = compute_gradient(featmatrix[i], weights, classvector[i])\n",
    "        weights += gradient*learningrate\n",
    "    \n",
    "        if step % 10000 == 0:\n",
    "            print(log_likelihood(featmatrix, weights, classvector))\n",
    "    \n",
    "    if intercept == False:\n",
    "        weights[-1] = 0\n",
    "    return weights"
   ]
  },
  {
   "cell_type": "code",
   "execution_count": 9,
   "metadata": {
    "collapsed": true
   },
   "outputs": [],
   "source": [
    "def classify(countedtokens, weights):\n",
    "    if sigmoid(countedtokens.dot(weights)) > 0.5:\n",
    "        return 1\n",
    "    else:\n",
    "        return 0"
   ]
  },
  {
   "cell_type": "markdown",
   "metadata": {},
   "source": [
    "#### Training"
   ]
  },
  {
   "cell_type": "code",
   "execution_count": 10,
   "metadata": {
    "collapsed": true
   },
   "outputs": [],
   "source": [
    "traindata = pd.read_table('train.tsv', delimiter='\\t', quoting=3, index_col=0)\n",
    "dat = [x for x in map(tokenize, traindata.text)]\n",
    "\n",
    "vocabulary = {}\n",
    "for d in dat:\n",
    "    for term in d:\n",
    "        vocabulary.setdefault(term, len(vocabulary))"
   ]
  },
  {
   "cell_type": "code",
   "execution_count": 11,
   "metadata": {
    "collapsed": true
   },
   "outputs": [],
   "source": [
    "featmatrix = build_spmatrix(vocabulary, dat)"
   ]
  },
  {
   "cell_type": "code",
   "execution_count": 12,
   "metadata": {},
   "outputs": [
    {
     "name": "stdout",
     "output_type": "stream",
     "text": [
      "(35828, 32929)\n",
      "-24834.039126\n",
      "-24528.2757446\n",
      "-24244.4766403\n",
      "-23960.8207461\n",
      "-23691.4176709\n",
      "-23432.0702365\n",
      "-23183.3711588\n",
      "-22940.7258047\n",
      "-22707.3775515\n",
      "-22483.1314836\n",
      "-22264.8559056\n",
      "-22054.7368339\n",
      "-21849.2051816\n",
      "-21653.0931121\n",
      "-21459.6350747\n",
      "-21274.5777407\n",
      "-21094.5366743\n",
      "-20919.0084224\n",
      "-20749.4873189\n",
      "-20583.3453908\n",
      "-20424.5740529\n",
      "-20266.6190738\n",
      "-20115.7710523\n",
      "-19967.377752\n",
      "-19823.9786556\n",
      "-19683.7829867\n",
      "-19545.9228565\n",
      "-19414.0840754\n",
      "-19283.7168899\n",
      "-19156.9710732\n"
     ]
    }
   ],
   "source": [
    "finalweight = logistic_regression(featmatrix, traindata['class'].values, 0.00005,  300000, False)"
   ]
  },
  {
   "cell_type": "code",
   "execution_count": 13,
   "metadata": {},
   "outputs": [
    {
     "data": {
      "text/plain": [
       "array([-0.01021285, -0.00030345, -0.00618091, ..., -0.00017612,\n",
       "        0.0001954 ,  0.        ])"
      ]
     },
     "execution_count": 13,
     "metadata": {},
     "output_type": "execute_result"
    }
   ],
   "source": [
    "finalweight"
   ]
  },
  {
   "cell_type": "markdown",
   "metadata": {},
   "source": [
    "#### Dev data"
   ]
  },
  {
   "cell_type": "code",
   "execution_count": 14,
   "metadata": {
    "collapsed": true
   },
   "outputs": [],
   "source": [
    "devdata = pd.read_table('dev.tsv', delimiter='\\t', quoting=3, index_col=0)\n",
    "devmatrix = build_spmatrix(vocabulary, [x for x in map(tokenize, devdata.text)])"
   ]
  },
  {
   "cell_type": "code",
   "execution_count": 15,
   "metadata": {},
   "outputs": [
    {
     "data": {
      "text/plain": [
       "<4478x32929 sparse matrix of type '<class 'numpy.float64'>'\n",
       "\twith 35749 stored elements in Compressed Sparse Row format>"
      ]
     },
     "execution_count": 15,
     "metadata": {},
     "output_type": "execute_result"
    }
   ],
   "source": [
    "devmatrix"
   ]
  },
  {
   "cell_type": "code",
   "execution_count": 16,
   "metadata": {
    "collapsed": true,
    "scrolled": true
   },
   "outputs": [],
   "source": [
    "result = pd.DataFrame({'class':[classify(devmatrix[x], finalweight) for x in range(devmatrix.shape[0])]}, index=devdata.index)\n"
   ]
  },
  {
   "cell_type": "code",
   "execution_count": 17,
   "metadata": {},
   "outputs": [
    {
     "data": {
      "text/plain": [
       "0.80835676978706306"
      ]
     },
     "execution_count": 17,
     "metadata": {},
     "output_type": "execute_result"
    }
   ],
   "source": [
    "f1_score(devdata['class'], result['class'])"
   ]
  },
  {
   "cell_type": "markdown",
   "metadata": {},
   "source": [
    "#### Implementation on test data"
   ]
  },
  {
   "cell_type": "code",
   "execution_count": 18,
   "metadata": {
    "collapsed": true
   },
   "outputs": [],
   "source": [
    "testdata = pd.read_table('test.unlabeled.tsv', delimiter='\\t', quoting=3, index_col=0)\n",
    "testmatrix = build_spmatrix(vocabulary, [x for x in map(tokenize, testdata.text)])"
   ]
  },
  {
   "cell_type": "code",
   "execution_count": 19,
   "metadata": {},
   "outputs": [
    {
     "data": {
      "text/plain": [
       "<4478x32929 sparse matrix of type '<class 'numpy.float64'>'\n",
       "\twith 35905 stored elements in Compressed Sparse Row format>"
      ]
     },
     "execution_count": 19,
     "metadata": {},
     "output_type": "execute_result"
    }
   ],
   "source": [
    "testmatrix"
   ]
  },
  {
   "cell_type": "code",
   "execution_count": 20,
   "metadata": {},
   "outputs": [
    {
     "name": "stdout",
     "output_type": "stream",
     "text": [
      "(35828, 32929)\n",
      "-24814.1634709\n",
      "-8603.53874767\n",
      "-7058.97211958\n",
      "-6338.79588175\n",
      "-5780.61722686\n",
      "-5436.17507278\n",
      "-5181.98037926\n",
      "-4914.79834265\n",
      "-4731.79758338\n",
      "-4580.5280228\n",
      "-4438.13587883\n",
      "-4315.0028361\n",
      "-4210.67801894\n",
      "-4115.99207002\n",
      "-4018.06105888\n",
      "-3967.77215714\n",
      "-3864.97776167\n",
      "-3796.32864289\n",
      "-3725.32445401\n",
      "-3673.6284318\n",
      "-3612.10337395\n",
      "-3603.2657749\n",
      "-3505.18618647\n",
      "-3458.3334525\n",
      "-3411.57823743\n",
      "-3366.81878537\n",
      "-3336.37470334\n",
      "-3298.60761461\n",
      "-3248.71717362\n",
      "-3210.84070736\n",
      "-3205.36441104\n",
      "-3143.50151126\n",
      "-3114.61378204\n",
      "-3079.30011145\n",
      "-3050.69152918\n",
      "-3021.38789876\n",
      "-3005.12160028\n",
      "-2967.0144889\n",
      "-2938.6449604\n",
      "-2929.83222285\n",
      "-2891.79708591\n",
      "-2870.85800797\n",
      "-2838.14445009\n",
      "-2868.46498356\n",
      "-2794.09607738\n",
      "-2794.49948077\n",
      "-2751.98883942\n",
      "-2728.78877743\n",
      "-2712.71567113\n",
      "-2700.66575922\n"
     ]
    }
   ],
   "source": [
    "bestweight = logistic_regression(featmatrix, traindata['class'].values, 0.0275,  500000, True)"
   ]
  },
  {
   "cell_type": "code",
   "execution_count": 21,
   "metadata": {
    "collapsed": true
   },
   "outputs": [],
   "source": [
    "testproduct = pd.DataFrame({'class':[classify(testmatrix[x], bestweight) for x in range(testmatrix.shape[0])]}, index=testdata.index)"
   ]
  },
  {
   "cell_type": "code",
   "execution_count": 22,
   "metadata": {
    "collapsed": true
   },
   "outputs": [],
   "source": [
    "testproduct.to_csv('logisticsubmit.csv')"
   ]
  },
  {
   "cell_type": "markdown",
   "metadata": {},
   "source": [
    "#### For paper"
   ]
  },
  {
   "cell_type": "code",
   "execution_count": 25,
   "metadata": {
    "collapsed": true
   },
   "outputs": [],
   "source": [
    "def logistic_graph(featmatrix, classvector, learningratelst, num_step, intercept=False):\n",
    "    # Referenced: https://beckernick.github.io/logistic-regression-from-scratch/\n",
    " \n",
    "    logtenk = {}\n",
    "    \n",
    "    #use hstack later for intercept\n",
    "    weights = np.zeros(featmatrix.shape[1])\n",
    "    \n",
    "    for x in learningratelst:\n",
    "        loglike = []\n",
    "        for step in np.arange(num_step):\n",
    "            if featmatrix.shape[0]-step <= 0:\n",
    "                i = step % featmatrix.shape[0]\n",
    "            else:\n",
    "                i = step\n",
    "            gradient = compute_gradient(featmatrix[i], weights, classvector[i])\n",
    "            weights += gradient*x\n",
    "\n",
    "            if step % 10000 == 0:\n",
    "                loglike.append(log_likelihood(featmatrix, weights, classvector))\n",
    "\n",
    "        if intercept == False:\n",
    "            weights[-1] = 0\n",
    "        \n",
    "        logtenk[x] = loglike\n",
    "    return logtenk"
   ]
  },
  {
   "cell_type": "code",
   "execution_count": 27,
   "metadata": {
    "collapsed": true
   },
   "outputs": [],
   "source": [
    "grph = logistic_graph(featmatrix, traindata['class'].values, [5e-8, 5e-5, 2],  300000, False)"
   ]
  },
  {
   "cell_type": "code",
   "execution_count": 60,
   "metadata": {},
   "outputs": [
    {
     "data": {
      "text/html": [
       "<div>\n",
       "<style>\n",
       "    .dataframe thead tr:only-child th {\n",
       "        text-align: right;\n",
       "    }\n",
       "\n",
       "    .dataframe thead th {\n",
       "        text-align: left;\n",
       "    }\n",
       "\n",
       "    .dataframe tbody tr th {\n",
       "        vertical-align: top;\n",
       "    }\n",
       "</style>\n",
       "<table border=\"1\" class=\"dataframe\">\n",
       "  <thead>\n",
       "    <tr style=\"text-align: right;\">\n",
       "      <th></th>\n",
       "      <th>5e-08</th>\n",
       "      <th>5e-05</th>\n",
       "      <th>2.0</th>\n",
       "    </tr>\n",
       "  </thead>\n",
       "  <tbody>\n",
       "    <tr>\n",
       "      <th>0</th>\n",
       "      <td>-24834.077147</td>\n",
       "      <td>-24825.713939</td>\n",
       "      <td>-20548.616824</td>\n",
       "    </tr>\n",
       "    <tr>\n",
       "      <th>10000</th>\n",
       "      <td>-24833.765340</td>\n",
       "      <td>-24520.238449</td>\n",
       "      <td>-10484.866403</td>\n",
       "    </tr>\n",
       "    <tr>\n",
       "      <th>20000</th>\n",
       "      <td>-24833.465074</td>\n",
       "      <td>-24236.696752</td>\n",
       "      <td>-8806.370351</td>\n",
       "    </tr>\n",
       "    <tr>\n",
       "      <th>30000</th>\n",
       "      <td>-24833.153204</td>\n",
       "      <td>-23953.307832</td>\n",
       "      <td>-7197.516204</td>\n",
       "    </tr>\n",
       "    <tr>\n",
       "      <th>40000</th>\n",
       "      <td>-24832.845291</td>\n",
       "      <td>-23684.155062</td>\n",
       "      <td>-6277.071587</td>\n",
       "    </tr>\n",
       "    <tr>\n",
       "      <th>50000</th>\n",
       "      <td>-24832.538840</td>\n",
       "      <td>-23425.056893</td>\n",
       "      <td>-5874.382173</td>\n",
       "    </tr>\n",
       "    <tr>\n",
       "      <th>60000</th>\n",
       "      <td>-24832.233591</td>\n",
       "      <td>-23176.589239</td>\n",
       "      <td>-4417.940880</td>\n",
       "    </tr>\n",
       "    <tr>\n",
       "      <th>70000</th>\n",
       "      <td>-24831.924904</td>\n",
       "      <td>-22934.168630</td>\n",
       "      <td>-6394.720789</td>\n",
       "    </tr>\n",
       "    <tr>\n",
       "      <th>80000</th>\n",
       "      <td>-24831.617840</td>\n",
       "      <td>-22701.038413</td>\n",
       "      <td>-3960.776191</td>\n",
       "    </tr>\n",
       "    <tr>\n",
       "      <th>90000</th>\n",
       "      <td>-24831.313627</td>\n",
       "      <td>-22476.999333</td>\n",
       "      <td>-4336.457371</td>\n",
       "    </tr>\n",
       "    <tr>\n",
       "      <th>100000</th>\n",
       "      <td>-24831.005834</td>\n",
       "      <td>-22258.923404</td>\n",
       "      <td>-3417.884787</td>\n",
       "    </tr>\n",
       "    <tr>\n",
       "      <th>110000</th>\n",
       "      <td>-24830.699554</td>\n",
       "      <td>-22048.990785</td>\n",
       "      <td>-3314.013696</td>\n",
       "    </tr>\n",
       "    <tr>\n",
       "      <th>120000</th>\n",
       "      <td>-24830.391258</td>\n",
       "      <td>-21843.642791</td>\n",
       "      <td>-3491.410398</td>\n",
       "    </tr>\n",
       "    <tr>\n",
       "      <th>130000</th>\n",
       "      <td>-24830.087091</td>\n",
       "      <td>-21647.700222</td>\n",
       "      <td>-3448.503355</td>\n",
       "    </tr>\n",
       "    <tr>\n",
       "      <th>140000</th>\n",
       "      <td>-24829.777413</td>\n",
       "      <td>-21454.408978</td>\n",
       "      <td>-3248.430698</td>\n",
       "    </tr>\n",
       "    <tr>\n",
       "      <th>150000</th>\n",
       "      <td>-24829.470271</td>\n",
       "      <td>-21269.508110</td>\n",
       "      <td>-2525.595809</td>\n",
       "    </tr>\n",
       "    <tr>\n",
       "      <th>160000</th>\n",
       "      <td>-24829.166001</td>\n",
       "      <td>-21089.616193</td>\n",
       "      <td>-2204.022416</td>\n",
       "    </tr>\n",
       "    <tr>\n",
       "      <th>170000</th>\n",
       "      <td>-24828.857573</td>\n",
       "      <td>-20914.232010</td>\n",
       "      <td>-3010.977656</td>\n",
       "    </tr>\n",
       "    <tr>\n",
       "      <th>180000</th>\n",
       "      <td>-24828.551002</td>\n",
       "      <td>-20744.846048</td>\n",
       "      <td>-2615.483277</td>\n",
       "    </tr>\n",
       "    <tr>\n",
       "      <th>190000</th>\n",
       "      <td>-24828.241842</td>\n",
       "      <td>-20578.836544</td>\n",
       "      <td>-3129.026621</td>\n",
       "    </tr>\n",
       "    <tr>\n",
       "      <th>200000</th>\n",
       "      <td>-24827.939651</td>\n",
       "      <td>-20420.188610</td>\n",
       "      <td>-1924.556026</td>\n",
       "    </tr>\n",
       "    <tr>\n",
       "      <th>210000</th>\n",
       "      <td>-24827.628535</td>\n",
       "      <td>-20262.354941</td>\n",
       "      <td>-3917.227565</td>\n",
       "    </tr>\n",
       "    <tr>\n",
       "      <th>220000</th>\n",
       "      <td>-24827.322756</td>\n",
       "      <td>-20111.619763</td>\n",
       "      <td>-3174.568125</td>\n",
       "    </tr>\n",
       "    <tr>\n",
       "      <th>230000</th>\n",
       "      <td>-24827.016576</td>\n",
       "      <td>-19963.336612</td>\n",
       "      <td>-1608.759185</td>\n",
       "    </tr>\n",
       "    <tr>\n",
       "      <th>240000</th>\n",
       "      <td>-24826.710586</td>\n",
       "      <td>-19820.041445</td>\n",
       "      <td>-1727.586375</td>\n",
       "    </tr>\n",
       "    <tr>\n",
       "      <th>250000</th>\n",
       "      <td>-24826.403992</td>\n",
       "      <td>-19679.945916</td>\n",
       "      <td>-1436.984398</td>\n",
       "    </tr>\n",
       "    <tr>\n",
       "      <th>260000</th>\n",
       "      <td>-24826.094041</td>\n",
       "      <td>-19542.183512</td>\n",
       "      <td>-1555.077515</td>\n",
       "    </tr>\n",
       "    <tr>\n",
       "      <th>270000</th>\n",
       "      <td>-24825.793307</td>\n",
       "      <td>-19410.435671</td>\n",
       "      <td>-1455.704435</td>\n",
       "    </tr>\n",
       "    <tr>\n",
       "      <th>280000</th>\n",
       "      <td>-24825.483978</td>\n",
       "      <td>-19280.157784</td>\n",
       "      <td>-1254.839528</td>\n",
       "    </tr>\n",
       "    <tr>\n",
       "      <th>290000</th>\n",
       "      <td>-24825.176726</td>\n",
       "      <td>-19153.496893</td>\n",
       "      <td>-2125.230087</td>\n",
       "    </tr>\n",
       "  </tbody>\n",
       "</table>\n",
       "</div>"
      ],
      "text/plain": [
       "        5.000000e-08  5.000000e-05  2.000000e+00\n",
       "0      -24834.077147 -24825.713939 -20548.616824\n",
       "10000  -24833.765340 -24520.238449 -10484.866403\n",
       "20000  -24833.465074 -24236.696752  -8806.370351\n",
       "30000  -24833.153204 -23953.307832  -7197.516204\n",
       "40000  -24832.845291 -23684.155062  -6277.071587\n",
       "50000  -24832.538840 -23425.056893  -5874.382173\n",
       "60000  -24832.233591 -23176.589239  -4417.940880\n",
       "70000  -24831.924904 -22934.168630  -6394.720789\n",
       "80000  -24831.617840 -22701.038413  -3960.776191\n",
       "90000  -24831.313627 -22476.999333  -4336.457371\n",
       "100000 -24831.005834 -22258.923404  -3417.884787\n",
       "110000 -24830.699554 -22048.990785  -3314.013696\n",
       "120000 -24830.391258 -21843.642791  -3491.410398\n",
       "130000 -24830.087091 -21647.700222  -3448.503355\n",
       "140000 -24829.777413 -21454.408978  -3248.430698\n",
       "150000 -24829.470271 -21269.508110  -2525.595809\n",
       "160000 -24829.166001 -21089.616193  -2204.022416\n",
       "170000 -24828.857573 -20914.232010  -3010.977656\n",
       "180000 -24828.551002 -20744.846048  -2615.483277\n",
       "190000 -24828.241842 -20578.836544  -3129.026621\n",
       "200000 -24827.939651 -20420.188610  -1924.556026\n",
       "210000 -24827.628535 -20262.354941  -3917.227565\n",
       "220000 -24827.322756 -20111.619763  -3174.568125\n",
       "230000 -24827.016576 -19963.336612  -1608.759185\n",
       "240000 -24826.710586 -19820.041445  -1727.586375\n",
       "250000 -24826.403992 -19679.945916  -1436.984398\n",
       "260000 -24826.094041 -19542.183512  -1555.077515\n",
       "270000 -24825.793307 -19410.435671  -1455.704435\n",
       "280000 -24825.483978 -19280.157784  -1254.839528\n",
       "290000 -24825.176726 -19153.496893  -2125.230087"
      ]
     },
     "execution_count": 60,
     "metadata": {},
     "output_type": "execute_result"
    }
   ],
   "source": [
    "grphdf = pd.DataFrame(grph, index=(np.arange(30)*10000))\n",
    "grphdf"
   ]
  },
  {
   "cell_type": "code",
   "execution_count": 61,
   "metadata": {},
   "outputs": [
    {
     "data": {
      "image/png": "[encoded data removed]",
      "text/plain": [
       "<matplotlib.figure.Figure at 0x1f866943160>"
      ]
     },
     "metadata": {},
     "output_type": "display_data"
    }
   ],
   "source": [
    "grphdf.plot(x=grphdf.index, figsize=(10, 6)).get_figure().savefig('Learningrates.png')"
   ]
  },
  {
   "cell_type": "code",
   "execution_count": 62,
   "metadata": {},
   "outputs": [
    {
     "data": {
      "image/png": "[encoded data removed]",
      "text/plain": [
       "<matplotlib.figure.Figure at 0x1f865ec4198>"
      ]
     },
     "metadata": {},
     "output_type": "display_data"
    }
   ],
   "source": [
    "grphdf[5e-05].plot(figsize=(10, 6)).get_figure().savefig('low learn.png')"
   ]
  },
  {
   "cell_type": "code",
   "execution_count": null,
   "metadata": {
    "collapsed": true
   },
   "outputs": [],
   "source": []
  }
 ],
 "metadata": {
  "kernelspec": {
   "display_name": "Python 3",
   "language": "python",
   "name": "python3"
  },
  "language_info": {
   "codemirror_mode": {
    "name": "ipython",
    "version": 3
   },
   "file_extension": ".py",
   "mimetype": "text/x-python",
   "name": "python",
   "nbconvert_exporter": "python",
   "pygments_lexer": "ipython3",
   "version": "3.6.3"
  }
 },
 "nbformat": 4,
 "nbformat_minor": 2
}
