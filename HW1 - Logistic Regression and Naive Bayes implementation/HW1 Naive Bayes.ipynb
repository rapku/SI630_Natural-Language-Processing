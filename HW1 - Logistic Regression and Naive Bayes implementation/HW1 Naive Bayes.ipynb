{
 "cells": [
  {
   "cell_type": "code",
   "execution_count": 1,
   "metadata": {
    "collapsed": true
   },
   "outputs": [],
   "source": [
    "import sys, re, string as strg, numpy as np, pandas as pd\n",
    "from collections import Counter, defaultdict\n",
    "from sklearn.metrics import f1_score\n",
    "%matplotlib inline"
   ]
  },
  {
   "cell_type": "markdown",
   "metadata": {},
   "source": [
    "#### Functions"
   ]
  },
  {
   "cell_type": "code",
   "execution_count": 2,
   "metadata": {
    "collapsed": true
   },
   "outputs": [],
   "source": [
    "def tokenize(string):\n",
    "    a = string.split()\n",
    "    return a"
   ]
  },
  {
   "cell_type": "code",
   "execution_count": 3,
   "metadata": {
    "collapsed": true
   },
   "outputs": [],
   "source": [
    "def train(tsvfile, smoothing_alpha=0):\n",
    "    traindata = pd.read_table(tsvfile, sep='\\t', quoting=3)\n",
    "    traindata['tokens'] = pd.Series(map(tokenize, traindata.text))\n",
    "    voc = defaultdict(lambda: [0,0])\n",
    "    for x, y in traindata.iterrows():\n",
    "        for word in y[3]:\n",
    "            if y[2]==0:\n",
    "                voc[word][0] += 1\n",
    "            else:\n",
    "                voc[word][1] += 1\n",
    "    vocablength = len(voc)\n",
    "    neutword = int(sum([voc[word][0] for word in voc]))\n",
    "    badword = int(sum([voc[word][1] for word in voc]))\n",
    "    \n",
    "    prior = defaultdict(lambda: [(0+smoothing_alpha)/(neutword+smoothing_alpha*vocablength),(0+smoothing_alpha)/(badword+smoothing_alpha*vocablength)])\n",
    "    Py = traindata['class'].value_counts()/traindata['class'].count()\n",
    "    \n",
    "    for word in voc:\n",
    "        prior[word][0] = (voc[word][0]+smoothing_alpha)/(neutword+smoothing_alpha*vocablength)\n",
    "        prior[word][1] = (voc[word][1]+smoothing_alpha)/(badword+smoothing_alpha*vocablength)\n",
    "    \n",
    "    return Py, prior\n"
   ]
  },
  {
   "cell_type": "code",
   "execution_count": 4,
   "metadata": {
    "collapsed": true
   },
   "outputs": [],
   "source": [
    "def classify(testlst, trained):\n",
    "    Py, prior = trained\n",
    "    goodprior = np.exp(sum(map(lambda x: np.log(x), [prior[x][0] for x in testlst])))\n",
    "    badprior = np.exp(sum(map(lambda x: np.log(x), [prior[x][1] for x in testlst])))\n",
    "    Px = Py[0]*goodprior+Py[1]*badprior\n",
    "    x = {0:(Py[0]*goodprior)/Px, 1:(Py[1]*badprior)/Px}\n",
    "    return max(x, key=x.get)"
   ]
  },
  {
   "cell_type": "markdown",
   "metadata": {},
   "source": [
    "#### Implementation (Part 1)"
   ]
  },
  {
   "cell_type": "code",
   "execution_count": 5,
   "metadata": {
    "collapsed": true,
    "scrolled": true
   },
   "outputs": [],
   "source": [
    "training = train('train.tsv')"
   ]
  },
  {
   "cell_type": "code",
   "execution_count": 9,
   "metadata": {},
   "outputs": [
    {
     "data": {
      "text/plain": [
       "[0.3482930571538167,\n",
       " 0.86574870912220303,\n",
       " 0.86494623655913971,\n",
       " 0.8648881239242685,\n",
       " 0.86540120793787767]"
      ]
     },
     "execution_count": 9,
     "metadata": {},
     "output_type": "execute_result"
    }
   ],
   "source": [
    "devdata = pd.read_table('dev.tsv', delimiter='\\t')\n",
    "devdata['tokens'] = pd.Series(map(tokenize, devdata.text))\n",
    "\n",
    "plotalpha = [f1_score(devdata['class'], pd.Series(devdata.tokens).apply(classify, args=(train('train.tsv', smoothing_alpha=x),))) for x in np.arange(5)]\n",
    "plotalpha"
   ]
  },
  {
   "cell_type": "code",
   "execution_count": 28,
   "metadata": {},
   "outputs": [
    {
     "data": {
      "image/png": "[encoded data removed]",
      "text/plain": [
       "<matplotlib.figure.Figure at 0x186c685bef0>"
      ]
     },
     "metadata": {},
     "output_type": "display_data"
    }
   ],
   "source": [
    "pd.Series(plotalpha).plot('bar', figsize=(10, 6)).get_figure().savefig('part1.png')"
   ]
  },
  {
   "cell_type": "markdown",
   "metadata": {},
   "source": [
    "#### Implementation (Part 2)"
   ]
  },
  {
   "cell_type": "code",
   "execution_count": 11,
   "metadata": {
    "collapsed": true
   },
   "outputs": [],
   "source": [
    "def better_tokenize(string):\n",
    "    a = re.sub('(@\\w+)|http[s]*[^\\s]*', '', string).lower()\n",
    "    translator = a.maketrans('', '', strg.punctuation)\n",
    "    a = a.translate(translator)\n",
    "    return re.findall('[a-zA-z]{3,}', a)"
   ]
  },
  {
   "cell_type": "code",
   "execution_count": 12,
   "metadata": {
    "collapsed": true
   },
   "outputs": [],
   "source": [
    "def train2(tsvfile, smoothing_alpha=0):\n",
    "    traindata = pd.read_table(tsvfile, sep='\\t')\n",
    "    traindata['tokens'] = pd.Series(map(better_tokenize, traindata.text))\n",
    "    voc = defaultdict(lambda: [0,0])\n",
    "    for x, y in traindata.iterrows():\n",
    "        for word in y[3]:\n",
    "            if y[2]==0:\n",
    "                voc[word][0] += 1\n",
    "            else:\n",
    "                voc[word][1] += 1\n",
    "    vocablength = len(voc)\n",
    "    neutword = int(sum([voc[word][0] for word in voc]))\n",
    "    badword = int(sum([voc[word][1] for word in voc]))\n",
    "    \n",
    "    prior = defaultdict(lambda: [(0+smoothing_alpha)/(neutword+smoothing_alpha*vocablength),(0+smoothing_alpha)/(badword+smoothing_alpha*vocablength)])\n",
    "    Py = traindata['class'].value_counts()/traindata['class'].count()\n",
    "    \n",
    "    for word in voc:\n",
    "        prior[word][0] = (voc[word][0]+smoothing_alpha)/(neutword+smoothing_alpha*vocablength)\n",
    "        prior[word][1] = (voc[word][1]+smoothing_alpha)/(badword+smoothing_alpha*vocablength)\n",
    "    \n",
    "    return Py, prior"
   ]
  },
  {
   "cell_type": "code",
   "execution_count": 13,
   "metadata": {},
   "outputs": [
    {
     "data": {
      "text/plain": [
       "[0.70251283436908951,\n",
       " 0.87202964900806623,\n",
       " 0.87195121951219512,\n",
       " 0.87358326068003489,\n",
       " 0.87450808919982514]"
      ]
     },
     "execution_count": 13,
     "metadata": {},
     "output_type": "execute_result"
    }
   ],
   "source": [
    "devdata['better_tokens'] = pd.Series(map(better_tokenize, devdata.text))\n",
    "\n",
    "plotbeta = [f1_score(devdata['class'], pd.Series(devdata.better_tokens).apply(classify, args=(train2('train.tsv', smoothing_alpha=x),))) for x in np.arange(5)]\n",
    "plotbeta"
   ]
  },
  {
   "cell_type": "code",
   "execution_count": 29,
   "metadata": {},
   "outputs": [
    {
     "data": {
      "image/png": "[encoded data removed]",
      "text/plain": [
       "<matplotlib.figure.Figure at 0x186c6863c50>"
      ]
     },
     "metadata": {},
     "output_type": "display_data"
    }
   ],
   "source": [
    "pd.Series(plotbeta).plot('bar', figsize=(10, 6)).get_figure().savefig('part2.png')"
   ]
  },
  {
   "cell_type": "markdown",
   "metadata": {},
   "source": [
    "#### Implementation on test data"
   ]
  },
  {
   "cell_type": "code",
   "execution_count": 21,
   "metadata": {
    "collapsed": true,
    "scrolled": true
   },
   "outputs": [],
   "source": [
    "testdata = pd.read_table('test.unlabeled.tsv', delimiter='\\t')\n",
    "testdata['tokens'] = pd.Series(map(tokenize, testdata.text))\n",
    "testdata['class'] = pd.Series(testdata.tokens).apply(classify, args=(train2('train.tsv', smoothing_alpha=1),))\n",
    "\n",
    "b = pd.read_csv('test.random.csv')"
   ]
  },
  {
   "cell_type": "code",
   "execution_count": 22,
   "metadata": {},
   "outputs": [
    {
     "data": {
      "text/plain": [
       "0.57687948621080476"
      ]
     },
     "execution_count": 22,
     "metadata": {},
     "output_type": "execute_result"
    }
   ],
   "source": [
    "bestmodel = f1_score(b['class'], testdata['class'])\n",
    "bestmodel"
   ]
  },
  {
   "cell_type": "code",
   "execution_count": 23,
   "metadata": {
    "collapsed": true
   },
   "outputs": [],
   "source": [
    "submit = pd.DataFrame({'instance_id': testdata.instance_id, 'class': testdata['class']})"
   ]
  },
  {
   "cell_type": "code",
   "execution_count": 24,
   "metadata": {
    "collapsed": true
   },
   "outputs": [],
   "source": [
    "submit.set_index('instance_id').to_csv('naivesubmit.csv')"
   ]
  },
  {
   "cell_type": "code",
   "execution_count": null,
   "metadata": {
    "collapsed": true
   },
   "outputs": [],
   "source": []
  }
 ],
 "metadata": {
  "kernelspec": {
   "display_name": "Python 3",
   "language": "python",
   "name": "python3"
  },
  "language_info": {
   "codemirror_mode": {
    "name": "ipython",
    "version": 3
   },
   "file_extension": ".py",
   "mimetype": "text/x-python",
   "name": "python",
   "nbconvert_exporter": "python",
   "pygments_lexer": "ipython3",
   "version": "3.6.3"
  }
 },
 "nbformat": 4,
 "nbformat_minor": 2
}
